{
 "cells": [
  {
   "cell_type": "code",
   "execution_count": 1,
   "metadata": {},
   "outputs": [
    {
     "name": "stdout",
     "output_type": "stream",
     "text": [
      "hello world\n"
     ]
    }
   ],
   "source": [
    "print('hello world')"
   ]
  },
  {
   "cell_type": "code",
   "execution_count": 8,
   "metadata": {},
   "outputs": [
    {
     "name": "stdout",
     "output_type": "stream",
     "text": [
      "408326\n"
     ]
    }
   ],
   "source": [
    "from urllib.request import urlopen\n",
    "import re \n",
    "\n",
    "txt = urlopen('http://py4e-data.dr-chuck.net/regex_sum_479264.txt').read().decode('utf-8')\n",
    "numbers = re.findall('[0-9]+', txt)\n",
    "summary = 0\n",
    "for nums in numbers:\n",
    "    summary += int(nums)\n",
    "print(summary)"
   ]
  },
  {
   "cell_type": "code",
   "execution_count": 13,
   "metadata": {},
   "outputs": [
    {
     "name": "stdout",
     "output_type": "stream",
     "text": [
      "408326\n"
     ]
    }
   ],
   "source": [
    "import re\n",
    "print (sum([int(nums) for nums in re.findall('[0-9]+', urlopen('http://py4e-data.dr-chuck.net/regex_sum_479264.txt').read().decode('utf-8'))]))"
   ]
  },
  {
   "cell_type": "code",
   "execution_count": 14,
   "metadata": {},
   "outputs": [],
   "source": []
  }
 ],
 "metadata": {
  "kernelspec": {
   "display_name": "Python 3",
   "language": "python",
   "name": "python3"
  },
  "language_info": {
   "codemirror_mode": {
    "name": "ipython",
    "version": 3
   },
   "file_extension": ".py",
   "mimetype": "text/x-python",
   "name": "python",
   "nbconvert_exporter": "python",
   "pygments_lexer": "ipython3",
   "version": "3.7.4"
  }
 },
 "nbformat": 4,
 "nbformat_minor": 2
}
