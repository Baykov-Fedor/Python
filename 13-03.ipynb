{
 "cells": [
  {
   "cell_type": "code",
   "execution_count": 3,
   "metadata": {},
   "outputs": [
    {
     "name": "stdout",
     "output_type": "stream",
     "text": [
      "identity None (10,) {}\n"
     ]
    },
    {
     "data": {
      "text/plain": [
       "10"
      ]
     },
     "execution_count": 3,
     "metadata": {},
     "output_type": "execute_result"
    }
   ],
   "source": [
    "def trace(func):\n",
    "    def inner(*args, **kwargs):\n",
    "        print(func.__name__, func.__doc__, args, kwargs)\n",
    "        return func(*args, **kwargs)\n",
    "    return inner\n",
    "\n",
    "def identity(x):\n",
    "    return x\n",
    "\n",
    "identity = trace(identity)\n",
    "\n",
    "identity(10)\n",
    "\n"
   ]
  },
  {
   "cell_type": "code",
   "execution_count": 4,
   "metadata": {},
   "outputs": [
    {
     "name": "stdout",
     "output_type": "stream",
     "text": [
      "identity None (15,) {}\n"
     ]
    },
    {
     "data": {
      "text/plain": [
       "15"
      ]
     },
     "execution_count": 4,
     "metadata": {},
     "output_type": "execute_result"
    }
   ],
   "source": [
    "def trace(func):\n",
    "    def inner(*args, **kwargs):\n",
    "        print(func.__name__, func.__doc__, args, kwargs)\n",
    "        return func(*args, **kwargs)\n",
    "    return inner\n",
    "\n",
    "@trace\n",
    "def identity(x):\n",
    "    return x\n",
    "\n",
    "identity(15)"
   ]
  },
  {
   "cell_type": "code",
   "execution_count": 11,
   "metadata": {},
   "outputs": [
    {
     "name": "stdout",
     "output_type": "stream",
     "text": [
      "Time passed: 0.11289875333325956\n"
     ]
    }
   ],
   "source": [
    "import time \n",
    "def time_this(func):\n",
    "    n = 15\n",
    "    def inner(*args, **kwargs):\n",
    "        time_results = []\n",
    "        for _ in range(n):\n",
    "            time_start = time.perf_counter()\n",
    "            func(*args, **kwargs)\n",
    "            time_results.append(time.perf_counter() - time_start)\n",
    "        print(f\"Time passed: {sum(time_results) / len(time_results)}\")\n",
    "    return inner\n",
    "\n",
    "@time_this\n",
    "def foo(a, b, c):\n",
    "    for i in range(a):\n",
    "        for j in range(b):\n",
    "            for n in range(c):\n",
    "                x = i * j * n\n",
    "    return x\n",
    "\n",
    "foo(1000, 100, 10)\n",
    "        "
   ]
  }
 ],
 "metadata": {
  "kernelspec": {
   "display_name": "Python 3",
   "language": "python",
   "name": "python3"
  },
  "language_info": {
   "codemirror_mode": {
    "name": "ipython",
    "version": 3
   },
   "file_extension": ".py",
   "mimetype": "text/x-python",
   "name": "python",
   "nbconvert_exporter": "python",
   "pygments_lexer": "ipython3",
   "version": "3.7.4"
  }
 },
 "nbformat": 4,
 "nbformat_minor": 2
}
