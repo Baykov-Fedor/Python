{
 "cells": [
  {
   "cell_type": "code",
   "execution_count": 4,
   "metadata": {},
   "outputs": [
    {
     "name": "stdout",
     "output_type": "stream",
     "text": [
      "C++\n"
     ]
    }
   ],
   "source": [
    "# Мы сохранили страницу с википедии про языки программирования и \n",
    "# сохранили по адресу https://stepik.org/media/attachments/lesson/209717/1.html\n",
    "# Скачайте её с помощью скрипта на Питоне и посчитайте, какой язык упоминается чаще \n",
    "# Python или C++ (ответ должен быть одной из этих двух строк).\n",
    "\n",
    "from urllib.request import urlopen\n",
    "html = urlopen('https://stepik.org/media/attachments/lesson/209717/1.html').read().decode('utf-8')\n",
    "html = str(html)\n",
    "python = html.count('Python')\n",
    "C = html.count('C++')\n",
    "if python > C:\n",
    "    print(\"Python\")\n",
    "else: \n",
    "    print(\"C++\")"
   ]
  },
  {
   "cell_type": "code",
   "execution_count": 26,
   "metadata": {},
   "outputs": [],
   "source": [
    "# Файл https://stepik.org/media/attachments/lesson/209719/2.html содержит статью с Википедии про язык Python. \n",
    "# В этой статье есть теги code, которыми выделяются конструкции на языке Python. \n",
    "# Вам нужно найти все строки, содержащиеся между тегами <code> и </code> и \n",
    "# найти те строки, которые встречаются чаще всего и вывести их в алфавитном порядке, разделяя пробелами.\n",
    "\n",
    "\n",
    "from urllib.request import urlopen\n",
    "html = urlopen('https://stepik.org/media/attachments/lesson/209719/2.html').read().decode('utf-8')\n",
    "html = str(html)\n",
    "\n",
    "empty_list = []\n",
    "index = 0\n",
    "summary = 0\n",
    "\n",
    "while (index < len(html)): \n",
    "    start = html.find('<code>', index)\n",
    "    end = html.find('</code>', index)\n",
    "    result = html[start+6:end]\n",
    "    index = end + 1\n",
    "    if start == -1: \n",
    "        break\n",
    "    empty_list.append(result)\n",
    "\n",
    "new_dict = {}\n",
    "for elem in empty_list:\n",
    "    if elem in new_dict:\n",
    "        new_dict[elem] += 1\n",
    "    else:\n",
    "        new_dict[elem] = 1\n",
    "\n",
    "        \n",
    "# for k in sorted(new_dict, key=new_dict.get, reverse=True):\n",
    "#     print (k, new_dict[k])\n"
   ]
  },
  {
   "cell_type": "code",
   "execution_count": 27,
   "metadata": {},
   "outputs": [
    {
     "name": "stdout",
     "output_type": "stream",
     "text": [
      "94596065609609271052308\n"
     ]
    }
   ],
   "source": [
    "from urllib.request import urlopen, urlretrieve\n",
    "from bs4 import BeautifulSoup\n",
    "\n",
    "resp = urlopen('https://stepik.org/media/attachments/lesson/245130/6.html') # скачиваем файл\n",
    "html = resp.read().decode('utf8') # считываем содержимое\n",
    "soup = BeautifulSoup(html, 'html.parser') # делаем суп\n",
    "table = soup.find('table', attrs = {'class' : 'wikitable sortable'})\n",
    "cnt = 0\n",
    "for tr in soup.find_all('tr'):\n",
    "    cnt += 1\n",
    "    for td in tr.find_all(['td', 'th']):\n",
    "        cnt *= 2\n",
    "print(cnt)"
   ]
  },
  {
   "cell_type": "code",
   "execution_count": 39,
   "metadata": {},
   "outputs": [
    {
     "name": "stdout",
     "output_type": "stream",
     "text": [
      "1005425\n"
     ]
    }
   ],
   "source": [
    "# В файле https://stepik.org/media/attachments/lesson/209723/3.html находится одна таблица.\n",
    "# Просуммируйте все числа в ней и введите в качестве ответа одно число - эту сумму. \n",
    "# Для доступа к ячейкам используйте возможности BeautifulSoup.\n",
    "from urllib.request import urlopen, urlretrieve\n",
    "from bs4 import BeautifulSoup\n",
    "\n",
    "html = urlopen('https://stepik.org/media/attachments/lesson/209723/3.html').read().decode('utf-8')\n",
    "html = str(html)\n",
    "soup = BeautifulSoup(html, 'html.parser')\n",
    "sum = 0\n",
    "for values in soup.find_all('td'):\n",
    "    sum += int(values.get_text())\n",
    "    \n",
    "print(sum)"
   ]
  },
  {
   "cell_type": "code",
   "execution_count": 42,
   "metadata": {},
   "outputs": [
    {
     "name": "stdout",
     "output_type": "stream",
     "text": [
      "29536\n"
     ]
    }
   ],
   "source": [
    "# В файле https://stepik.org/media/attachments/lesson/209723/4.html находится одна таблица.\n",
    "# Просуммируйте все числа в ней и введите в качестве ответа одно число - эту сумму. \n",
    "#  Теперь мы добавили разных тегов для изменения стиля отображения. \n",
    "# Для доступа к ячейкам используйте возможности BeautifulSoup.\n",
    "\n",
    "from urllib.request import urlopen, urlretrieve\n",
    "from bs4 import BeautifulSoup\n",
    "\n",
    "html = urlopen('https://stepik.org/media/attachments/lesson/209723/4.html').read().decode('utf-8')\n",
    "html = str(html)\n",
    "soup = BeautifulSoup(html, 'html.parser')\n",
    "sum = 0\n",
    "for values in soup.find_all('td'):\n",
    "    sum += int(values.get_text())\n",
    "    \n",
    "print(sum)"
   ]
  },
  {
   "cell_type": "code",
   "execution_count": 45,
   "metadata": {},
   "outputs": [
    {
     "name": "stdout",
     "output_type": "stream",
     "text": [
      "28734\n"
     ]
    }
   ],
   "source": [
    "# В файле https://stepik.org/media/attachments/lesson/209723/5.html находится одна таблица. \n",
    "# Просуммируйте все числа в ней. Теперь мы не только добавили разных тегов для изменения стиля \n",
    "# отображения, но и сделали невалидный HTML-код (правда, браузеры его отображают, а вот с BeautifulSoup могут быть проблемы). \n",
    "# Невалидный HTML-код - не редкость в интернете, надо учиться работать и с этим.\n",
    "\n",
    "from urllib.request import urlopen, urlretrieve\n",
    "from bs4 import BeautifulSoup\n",
    "\n",
    "html = urlopen('https://stepik.org/media/attachments/lesson/209723/5.html').read().decode('utf-8')\n",
    "html = str(html)\n",
    "soup = BeautifulSoup(html, 'html.parser')\n",
    "sum = 0\n",
    "for values in soup.find_all('td'):\n",
    "    sum += int(values.get_text())\n",
    "    \n",
    "print(sum)"
   ]
  },
  {
   "cell_type": "code",
   "execution_count": 46,
   "metadata": {},
   "outputs": [
    {
     "name": "stdout",
     "output_type": "stream",
     "text": [
      "39650.2\n"
     ]
    }
   ],
   "source": [
    "# Для решения этой задачи необходимо установить библиотеку xlrd, \n",
    "# скачать файл https://stepik.org/media/attachments/lesson/245266/tab.xlsx \n",
    "# и создать в папке с этим файлом скрипт со следующем содержанием:\n",
    "\n",
    "import xlrd\n",
    "\n",
    "wb = xlrd.open_workbook('tab.xlsx')\n",
    "sheet_names = wb.sheet_names()\n",
    "sh = wb.sheet_by_name(sheet_names[0])\n",
    "nmin = sh.row_values(6)[2]\n",
    "for rownum in range(7, 27):\n",
    "    temp = sh.row_values(rownum)\n",
    "    nmin = min(nmin, temp[2])\n",
    "print(nmin)"
   ]
  },
  {
   "cell_type": "code",
   "execution_count": 26,
   "metadata": {},
   "outputs": [
    {
     "name": "stdout",
     "output_type": "stream",
     "text": [
      "Куала-Лумпур\n",
      "Программист: 149704.5\n",
      "Менеджер по клинингу: 244784.75\n",
      "Дизайнер онлайн-курсов: 166503.0\n",
      "Собачий парикмахер: 338429.5\n",
      "Учитель для нейросетей: 30924.5\n",
      "Сотрудник конной милиции: 116087.75\n",
      "Актёр на роль человека-бутерброда: 10846.875\n"
     ]
    }
   ],
   "source": [
    "# Вася планирует карьеру и переезд. Для это составил таблицу, в которой для каждого региона записал зарплаты \n",
    "# для разных интересные ему профессий. Таблица доступна по ссылке https://stepik.org/media/attachments/lesson/245267/salaries.xlsx. \n",
    "# Выведите название региона с самой высокой медианной зарплатой (медианой называется элемент, \n",
    "# стоящий в середине массива после его упорядочивания) и, через пробел, \n",
    "# название профессии с самой высокой средней зарплатой по всем регионам. \n",
    "from statistics import median, mean\n",
    "import xlrd\n",
    "\n",
    "wb = xlrd.open_workbook('salaries.xlsx')\n",
    "sheet_names = wb.sheet_names()\n",
    "sh = wb.sheet_by_name(sheet_names[0])\n",
    "vals = [sh.row_values(rownum) for rownum in range(sh.nrows)]\n",
    "salaries = vals[1:]\n",
    "\n",
    "top_salary = 0\n",
    "new_dict = {}\n",
    "for rows in salaries:\n",
    "    new_dict[rows[0]] = median(rows[1:])\n",
    "print(max(new_dict, key=(lambda k: new_dict[k])))\n",
    "\n",
    "vals2 = [sh.col_values(colnum) for colnum in range(1, sh.ncols)]\n",
    "max_salary = 0\n",
    "for cols in vals2:\n",
    "    salary = mean(cols[1:])\n",
    "    print(f'{cols[0]}: {salary}')\n",
    "        \n",
    "\n",
    "    \n"
   ]
  },
  {
   "cell_type": "code",
   "execution_count": null,
   "metadata": {},
   "outputs": [],
   "source": []
  }
 ],
 "metadata": {
  "kernelspec": {
   "display_name": "Python 3",
   "language": "python",
   "name": "python3"
  },
  "language_info": {
   "codemirror_mode": {
    "name": "ipython",
    "version": 3
   },
   "file_extension": ".py",
   "mimetype": "text/x-python",
   "name": "python",
   "nbconvert_exporter": "python",
   "pygments_lexer": "ipython3",
   "version": "3.7.4"
  }
 },
 "nbformat": 4,
 "nbformat_minor": 2
}
