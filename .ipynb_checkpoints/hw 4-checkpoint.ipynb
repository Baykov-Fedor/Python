{
 "cells": [
  {
   "cell_type": "markdown",
   "metadata": {},
   "source": [
    "### 1. N times\n",
    "Реализуйте декоратор n_times. Результатом его работы должна быть функцию, вызывающая декорируемую функцию n раз. \n",
    "Возвращаемое значение декорируемой функции можно игнорировать.\n",
    "\n",
    "```python\n",
    "@n_times(3)\n",
    "def do_something():\n",
    "    print(\"Something is going on!\")\n",
    "\n",
    ">>> do_something()\n",
    "Something is going on!\n",
    "Something is going on!\n",
    "Something is going on!\n",
    "```\n"
   ]
  },
  {
   "cell_type": "code",
   "execution_count": 41,
   "metadata": {},
   "outputs": [
    {
     "name": "stdout",
     "output_type": "stream",
     "text": [
      "Something is going on!\n",
      "Something is going on!\n",
      "Something is going on!\n",
      "x + y = 15\n",
      "x + y = 15\n"
     ]
    },
    {
     "data": {
      "text/plain": [
       "15"
      ]
     },
     "execution_count": 41,
     "metadata": {},
     "output_type": "execute_result"
    }
   ],
   "source": [
    "def n_times(n):\n",
    "    def decorator(func):\n",
    "        def inner(*args):\n",
    "            for i in range(n-1):\n",
    "                func(*args)\n",
    "            return func(*args)\n",
    "        return inner\n",
    "    return decorator \n",
    "\n",
    "@n_times(3)\n",
    "def do_something():\n",
    "    print(\"Something is going on!\")\n",
    "\n",
    "do_something()\n",
    "\n",
    "@n_times(2)\n",
    "def sum_up(x, y):\n",
    "    print(\"x + y =\", x + y)\n",
    "    return x + y\n",
    "\n",
    "sum_up(5, 10)"
   ]
  },
  {
   "cell_type": "markdown",
   "metadata": {},
   "source": [
    "### 2. trace_if \n",
    "Напишите декоратор trace, который будет выводить информацию о вызове функции, только если переданные аргументы \n",
    "удовлетворяют предикату.\n",
    "```python\n",
    "@trace_if(lambda x, y, **kwargs: kwargs.get(\"integral\"))\n",
    "def div(x, y, integral=False):\n",
    "    return x // y if integral else x / y\n",
    "\n",
    ">>> div(4, 2)\n",
    "2\n",
    ">>> div(4, 2, integral=True)\n",
    "div (4, 2) {'integral': True}\n",
    "2\n",
    "```\n"
   ]
  },
  {
   "cell_type": "code",
   "execution_count": 61,
   "metadata": {},
   "outputs": [
    {
     "name": "stdout",
     "output_type": "stream",
     "text": [
      "<function <lambda> at 0x000001F48380FA68> {}\n",
      "(4, 2) {'integral': True}\n"
     ]
    },
    {
     "data": {
      "text/plain": [
       "2"
      ]
     },
     "execution_count": 61,
     "metadata": {},
     "output_type": "execute_result"
    }
   ],
   "source": [
    "def trace_if(args1, **kwargs1):\n",
    "    def decorator(func):\n",
    "        def inner(*args2, **kwargs2):\n",
    "            print(args1, kwargs1)\n",
    "            print(args2, kwargs2)\n",
    "            \n",
    "            if (kwargs1 == kwargs2):\n",
    "                print(func.__name__, func.__doc__, args, kwargs)\n",
    "            return func(*args2, **kwargs2)\n",
    "        \n",
    "        return inner\n",
    "    return decorator \n",
    "                \n",
    "\n",
    "@trace_if(lambda x, y, **kwargs: kwargs.get(\"integral\"))\n",
    "def div(x, y, integral=False):\n",
    "    return x // y if integral else x / y\n",
    "\n",
    "div(4, 2, integral = True)"
   ]
  },
  {
   "cell_type": "code",
   "execution_count": 52,
   "metadata": {},
   "outputs": [
    {
     "ename": "SyntaxError",
     "evalue": "invalid syntax (<ipython-input-52-3b764ec46ff4>, line 2)",
     "output_type": "error",
     "traceback": [
      "\u001b[1;36m  File \u001b[1;32m\"<ipython-input-52-3b764ec46ff4>\"\u001b[1;36m, line \u001b[1;32m2\u001b[0m\n\u001b[1;33m    **integral\u001b[0m\n\u001b[1;37m     ^\u001b[0m\n\u001b[1;31mSyntaxError\u001b[0m\u001b[1;31m:\u001b[0m invalid syntax\n"
     ]
    }
   ],
   "source": [
    "integral = True\n",
    "**integral\n",
    "# integral.get(\"integral\")"
   ]
  },
  {
   "cell_type": "markdown",
   "metadata": {},
   "source": [
    "### 3. checked\n",
    "Напишите декоратор, который будет вызывать исключение (`raise TypeError`), если в него переданы аргументы не тех типов.\n",
    "\n",
    "Для простоты можно считать, что у декорируемой функции есть **только позициональные аргументы**.\n",
    "\n",
    "```python\n",
    "@checked(int, int, float)\n",
    "def do_sum_and_div(a, b, c):\n",
    "    return c / (a + b)     \n",
    "```"
   ]
  },
  {
   "cell_type": "code",
   "execution_count": 39,
   "metadata": {},
   "outputs": [
    {
     "data": {
      "text/plain": [
       "0.5"
      ]
     },
     "execution_count": 39,
     "metadata": {},
     "output_type": "execute_result"
    }
   ],
   "source": [
    "def checked(*args1):\n",
    "    def decorator(func):\n",
    "        def inner(*args2):\n",
    "            for i in range(len(args1)):\n",
    "                if (args1[i] != type(args2[i])):\n",
    "                    raise TypeError('Incorrect types')\n",
    "            return func(*args2)\n",
    "        return inner\n",
    "    return decorator \n",
    "\n",
    "@checked(int, int, float)\n",
    "def do_sum_and_div(a, b, c):\n",
    "    return c / (a + b)    \n",
    "\n",
    "do_sum_and_div(5, 5, 5.0)"
   ]
  }
 ],
 "metadata": {
  "kernelspec": {
   "display_name": "Python 3",
   "language": "python",
   "name": "python3"
  },
  "language_info": {
   "codemirror_mode": {
    "name": "ipython",
    "version": 3
   },
   "file_extension": ".py",
   "mimetype": "text/x-python",
   "name": "python",
   "nbconvert_exporter": "python",
   "pygments_lexer": "ipython3",
   "version": "3.7.4"
  }
 },
 "nbformat": 4,
 "nbformat_minor": 2
}
