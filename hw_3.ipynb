{
 "cells": [
  {
   "cell_type": "markdown",
   "metadata": {},
   "source": [
    "### Задание 1"
   ]
  },
  {
   "cell_type": "markdown",
   "metadata": {},
   "source": [
    "Постройте иерархию наследования для какого-нибудь набора объектов с нетривиальной структурой. Например, \n",
    "используйте для этого биологическую систематику живых организмов (см. Википедию); спуститесь в ней от класса \n",
    "«Живое» до конкретных видов. \n",
    "\n",
    "Полная систематика слишком большая, поэтому большую часть уровней и веток можно пропустить."
   ]
  },
  {
   "cell_type": "code",
   "execution_count": 4,
   "metadata": {},
   "outputs": [
    {
     "name": "stdout",
     "output_type": "stream",
     "text": [
      "2000\n",
      "Wroooom\n",
      "Beeeep\n"
     ]
    },
    {
     "data": {
      "text/plain": [
       "100.0"
      ]
     },
     "execution_count": 4,
     "metadata": {},
     "output_type": "execute_result"
    }
   ],
   "source": [
    "class motor_vehicle:\n",
    "    def __init__(self, weight, horsepower, wheels):\n",
    "        self.weight = weight\n",
    "        self.horsepower = horsepower\n",
    "        self.wheels = wheels\n",
    "        \n",
    "class Automobile(motor_vehicle):\n",
    "    def __init__(self, weight, horsepower, torque):\n",
    "        super().__init__(weight, horsepower, 4)\n",
    "        self.torque = torque\n",
    "    def honk(self):\n",
    "        print('Beeeep')\n",
    "    def open_door(self):\n",
    "        print(\"The door is open\")\n",
    "\n",
    "class Volkswagen(Automobile):\n",
    "    def start_the_engine(self):\n",
    "        print(\"Wroooom\")\n",
    "    def volume_of_music(self, volume):\n",
    "        self.volume = volume\n",
    "    def torque_per_wheel(self):\n",
    "        return (self.torque / self.wheels)\n",
    "    \n",
    "    \n",
    "x = motor_vehicle(1000, 50, 4)\n",
    "y = Automobile(1500, 200, 400)\n",
    "Polo = Volkswagen(2000, 100, 400)\n",
    "\n",
    "print(Polo.weight)\n",
    "Polo.start_the_engine()\n",
    "Polo.honk()\n",
    "Polo.torque_per_wheel()"
   ]
  },
  {
   "cell_type": "code",
   "execution_count": 221,
   "metadata": {},
   "outputs": [],
   "source": [
    "# class motor_vehicle:\n",
    "#     def __init__(self, weight, horsepower, wheels):\n",
    "#         self.weight = weight\n",
    "#         self.horsepower = horsepower\n",
    "#         self.wheels = wheels\n",
    "        \n",
    "# class Automobile(motor_vehicle):\n",
    "#     def __init__(self, another, torque):\n",
    "#         super().__init__(another.weight, another.horsepower, another.wheels)\n",
    "#         self.torque = torque\n",
    "#     def honk(self):\n",
    "#         print('Beeeep')\n",
    "#     def open_door(self):\n",
    "#         print(\"The door is open\")\n",
    "\n",
    "# p = motor_vehicle(1000, 50, 4)\n",
    "# l = Automobile(p, 200)\n"
   ]
  },
  {
   "cell_type": "markdown",
   "metadata": {},
   "source": [
    "### Задание 2"
   ]
  },
  {
   "cell_type": "markdown",
   "metadata": {},
   "source": [
    "Реализуйте класс «n-мерный» вектор. У этого класса должны быть определены все естественные для вектора операции:\n",
    "- сложение\n",
    "- вычитание\n",
    "- умножение на константу\n",
    "- скалярное произведение\n",
    "- сравнение на равенство\n",
    "\n",
    "а также операции \n",
    "- вычисления длины\n",
    "- получение элемента по индексу \n",
    "- и строковое представление. \n",
    "\n",
    "Во всех операциях можно считать, что все передаваемые аргументы корректны."
   ]
  },
  {
   "cell_type": "code",
   "execution_count": 220,
   "metadata": {},
   "outputs": [
    {
     "name": "stdout",
     "output_type": "stream",
     "text": [
      "6.782329983125268\n",
      "6.782329983125268\n",
      "True\n",
      "Векторы разной длинны\n",
      "[1, 6, 3]\n",
      "[-2, 0, 2]\n",
      "-4\n",
      "[30, 60, 10]\n",
      "-30\n",
      "1, -6, 3\n",
      "-6\n"
     ]
    }
   ],
   "source": [
    "from math import *\n",
    "\n",
    "class vector:\n",
    "    def __init__(self, *nums):\n",
    "        self.arr = [*nums]\n",
    "        self.length = sqrt(sum([x*x for x in self.arr]))\n",
    "        \n",
    "    def __add__(self, some_object):\n",
    "        if len(self.arr) == len(some_object.arr):\n",
    "            for i in range(0, len(self.arr)):\n",
    "                self.arr[i] += some_object.arr[i]\n",
    "            return vector(*self.arr)\n",
    "        else: \n",
    "            print(\"Векторы разной длинны\")\n",
    "            return vector(*self.arr)\n",
    "        \n",
    "    def __sub__(self, some_object):\n",
    "        if len(self.arr) == len(some_object.arr):\n",
    "            for i in range(0, len(self.arr)):\n",
    "                self.arr[i] -= some_object.arr[i]\n",
    "            return vector(*self.arr)\n",
    "        else: \n",
    "            print(\"Векторы разной длинны\")\n",
    "            return vector(*self.arr)\n",
    "        \n",
    "    def __mul__(self, some_object):\n",
    "        if isinstance(some_object, vector):\n",
    "            if len(self.arr) == len(some_object.arr):\n",
    "                for i in range(0, len(self.arr)):\n",
    "                    self.arr[i] *= some_object.arr[i]\n",
    "                return sum(self.arr)\n",
    "            else: \n",
    "                print(\"Векторы разной длинны\")\n",
    "                return vector(*self.arr)\n",
    "        elif int(some_object):\n",
    "            return vector(*map(lambda x : x * some_object , self.arr))\n",
    "        else: return vector(*self.arr)\n",
    "            \n",
    "    def __eq__(self, some_object):\n",
    "        return (self.length == some_object.length)\n",
    "    \n",
    "    def __str__(self):\n",
    "        return ', '.join([str(elem) for elem in self.arr]) \n",
    "    \n",
    "    def element(self, index):\n",
    "        return self.arr[index]\n",
    "    \n",
    "        \n",
    "    \n",
    "    \n",
    "x = vector(1,6,3)      \n",
    "z = vector(3,6,1)\n",
    "\n",
    "print(x.length)\n",
    "print(z.length)\n",
    "print(x == z)\n",
    "\n",
    "y = vector(2,4,2,5)\n",
    "x += y\n",
    "print(x.arr)\n",
    "\n",
    "x -= z\n",
    "print(x.arr)\n",
    "\n",
    "print(x*z)\n",
    "\n",
    "z *= 10\n",
    "print(z.arr)\n",
    "\n",
    "x = vector(1,-6,3)      \n",
    "z = vector(3,6,1)\n",
    "print (z * x)\n",
    "print(str(x))\n",
    "print(x.element(1))"
   ]
  },
  {
   "cell_type": "markdown",
   "metadata": {},
   "source": [
    "### Задание 3"
   ]
  },
  {
   "cell_type": "markdown",
   "metadata": {},
   "source": [
    "Дано некоторое множество объектов X и натуральное число n. Необходимо перебрать все элементы в множестве X^n (декартово произведение). \n",
    "\n",
    "Например, если $X = \\{1, a\\}$, то $X^2$ содержит такие элементы: (1, 1), (1, a), (a, 1), (a, a).\n",
    "\n",
    "Для этого напишите класс, экземпляры которого соответствую элементам этого множества, и у которых есть методы для получения текущего элемента, и замены текущего элемента на «следующий». \n",
    "\n",
    "Следующий элемент выбирайте таким образом, чтобы при после- довательном применении этого метода можно было получить все элементы множества. Не забудьте добавить возможность зацикливания, если этот метод вызывается более $|X|^n$ раз.\n",
    "\n",
    "_Примечание_. Для определенности считайте, что множество $X$ задается списком (то есть на элементах есть порядок), но в нем все элементы уникальны."
   ]
  },
  {
   "cell_type": "code",
   "execution_count": 7,
   "metadata": {},
   "outputs": [
    {
     "data": {
      "text/plain": [
       "[4, 1, 10, 1, 4, 24]"
      ]
     },
     "execution_count": 7,
     "metadata": {},
     "output_type": "execute_result"
    }
   ],
   "source": [
    "class X:\n",
    "    def __init__(self, elements):\n",
    "        self.elements = elements\n",
    "\n",
    "pop = X([4,1,10,1,4,24])\n",
    "pop.elements    "
   ]
  }
 ],
 "metadata": {
  "kernelspec": {
   "display_name": "Python 3",
   "language": "python",
   "name": "python3"
  },
  "language_info": {
   "codemirror_mode": {
    "name": "ipython",
    "version": 3
   },
   "file_extension": ".py",
   "mimetype": "text/x-python",
   "name": "python",
   "nbconvert_exporter": "python",
   "pygments_lexer": "ipython3",
   "version": "3.7.4"
  }
 },
 "nbformat": 4,
 "nbformat_minor": 2
}
